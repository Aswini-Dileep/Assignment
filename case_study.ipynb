{
  "nbformat": 4,
  "nbformat_minor": 0,
  "metadata": {
    "colab": {
      "provenance": []
    },
    "kernelspec": {
      "name": "python3",
      "display_name": "Python 3"
    },
    "language_info": {
      "name": "python"
    }
  },
  "cells": [
    {
      "cell_type": "markdown",
      "source": [
        "Q1. Write a function that return the range (maximum and minimum) of a given list of numbers"
      ],
      "metadata": {
        "id": "olui5_T_Pra2"
      }
    },
    {
      "cell_type": "code",
      "execution_count": 87,
      "metadata": {
        "colab": {
          "base_uri": "https://localhost:8080/"
        },
        "id": "zzeVkwaxPNIv",
        "outputId": "d672aaba-2fc9-413e-f544-6b5ac48da929"
      },
      "outputs": [
        {
          "output_type": "stream",
          "name": "stdout",
          "text": [
            "enter numbers :7 6 5 9 2 4\n",
            "Maximum number is 9\n",
            "Minimum number is 2\n"
          ]
        }
      ],
      "source": [
        "x = input(\"enter numbers :\").split (\" \")\n",
        "x = list(map(int, x))\n",
        "\n",
        "\n",
        "def num(x):\n",
        "  print(\"Maximum number is\", max(x))\n",
        "  print(\"Minimum number is\", min(x))\n",
        "\n",
        "\n",
        "num(x)\n"
      ]
    },
    {
      "cell_type": "markdown",
      "source": [
        "Q2. Write function that returns mean value of a list of numbers"
      ],
      "metadata": {
        "id": "z3hqwOdJSG92"
      }
    },
    {
      "cell_type": "code",
      "source": [
        "y = input(\"enter numbers :\").split (\" \")\n",
        "y = list(map(int, y))\n",
        "\n",
        "\n",
        "def find_mean(y):\n",
        "  i = sum(y)/len(y)\n",
        "  print(i)\n",
        "\n",
        "\n",
        "find_mean(y)"
      ],
      "metadata": {
        "colab": {
          "base_uri": "https://localhost:8080/"
        },
        "id": "OJscpwdyQ_jX",
        "outputId": "5a539278-6658-4626-f102-34001fcfce1d"
      },
      "execution_count": 88,
      "outputs": [
        {
          "output_type": "stream",
          "name": "stdout",
          "text": [
            "enter numbers :6 4 3 8 7\n",
            "5.6\n"
          ]
        }
      ]
    },
    {
      "cell_type": "markdown",
      "source": [
        "Q3. Write a function that returns the median value of a list of numbers"
      ],
      "metadata": {
        "id": "8ABJLcmVUPaN"
      }
    },
    {
      "cell_type": "code",
      "source": [
        "z = input(\"enter numbers :\").split (\" \")\n",
        "z = list(map(int, z))\n",
        "\n",
        "\n",
        "def find_median(z):\n",
        "  s = sorted(z)\n",
        "  print(s)\n",
        "  if (len(s)%2!=0):\n",
        "    print(\"Median of odd number of list\", s[(len(s)-1)//2])\n",
        "  else:\n",
        "    print(\"Median of even number of list\", (s[(len(s)-1)//2] + s[((len(s)-1)//2)+1])/2)\n",
        "\n",
        "\n",
        "find_median(z)"
      ],
      "metadata": {
        "colab": {
          "base_uri": "https://localhost:8080/"
        },
        "id": "sSxoc4rdTsF_",
        "outputId": "b5a612b6-3172-4dca-ceb6-f590470acac2"
      },
      "execution_count": 89,
      "outputs": [
        {
          "output_type": "stream",
          "name": "stdout",
          "text": [
            "enter numbers :3 7 6 8 1 4 2\n",
            "[1, 2, 3, 4, 6, 7, 8]\n",
            "Median of odd number of list 4\n"
          ]
        }
      ]
    },
    {
      "cell_type": "markdown",
      "source": [
        "Q4. Write a function to return the mod of a list of numbers, if no mod exists, it should return None. If more than one mode exist, return the mode values as list\n",
        "\n"
      ],
      "metadata": {
        "id": "rs2TrGUhbbYO"
      }
    },
    {
      "cell_type": "code",
      "source": [
        "a = input(\"enter numbers :\").split (\" \")\n",
        "a = list(map(int, a))\n",
        "print(a)\n",
        "\n",
        "def find_mode(a):\n",
        "  s = sorted(a)\n",
        "  print(s)\n",
        "  for i in range(len(s)):\n",
        "    if(s[i] == s[i]):\n",
        "      print(s[i])\n",
        "      break\n",
        "    else:\n",
        "      print(\"None\")\n",
        "\n",
        "find_mode(a)"
      ],
      "metadata": {
        "colab": {
          "base_uri": "https://localhost:8080/"
        },
        "id": "itDeLiqrW3RY",
        "outputId": "e240978d-8faa-4e0b-fbb8-cf6173641ec8"
      },
      "execution_count": 95,
      "outputs": [
        {
          "output_type": "stream",
          "name": "stdout",
          "text": [
            "enter numbers :2 6 4 2 8 7\n",
            "[2, 6, 4, 2, 8, 7]\n",
            "[2, 2, 4, 6, 7, 8]\n",
            "2\n"
          ]
        }
      ]
    },
    {
      "cell_type": "markdown",
      "source": [
        "Q5. Write function to compute a given percentile value (e.g. 90th percentile) of a list of number"
      ],
      "metadata": {
        "id": "cTlm1wKIda7f"
      }
    },
    {
      "cell_type": "code",
      "source": [
        "def per_centile():\n",
        "  m = input(\"enter numbers :\").split (\" \")\n",
        "  m = list(map(int, m))\n",
        "  print(m)\n",
        "\n",
        "  sort = sorted(m)\n",
        "  print(sort)\n",
        "\n",
        "  p = int(input(\"Enter the Percentile \"))\n",
        "  per = ((p/100)*(len(sort)+1))\n",
        "  print(per)\n",
        "\n",
        "  percent = int(per)\n",
        "  frac = per - percent\n",
        "  print(frac)\n",
        "\n",
        "  percentile = sort[percent - 1] + frac*(sort[percent]-sort[percent-1])\n",
        "  print(percentile)\n",
        "\n",
        "\n",
        "per_centile()"
      ],
      "metadata": {
        "colab": {
          "base_uri": "https://localhost:8080/"
        },
        "id": "WJyfIxW-X1Ro",
        "outputId": "e15af934-82e4-48a7-af69-d57dd0a9a4e3"
      },
      "execution_count": 78,
      "outputs": [
        {
          "output_type": "stream",
          "name": "stdout",
          "text": [
            "enter numbers :2 3 5 7\n",
            "[2, 3, 5, 7]\n",
            "[2, 3, 5, 7]\n",
            "Enter the Percentile 50\n",
            "2.5\n",
            "0.5\n",
            "4.0\n"
          ]
        }
      ]
    },
    {
      "cell_type": "markdown",
      "source": [
        "Q6. Write a function that returns the lower bound of a list of numbers"
      ],
      "metadata": {
        "id": "bmmfCYXpunQ3"
      }
    },
    {
      "cell_type": "code",
      "source": [
        "def lower_bound():\n",
        "  m = input(\"enter numbers :\").split (\" \")\n",
        "  m = list(map(int, m))\n",
        "  print(m)\n",
        "\n",
        "  sort = sorted(m)\n",
        "  print(sort)\n",
        "\n",
        "  q1 = int(input(\"Enter the Quartiler Q1\"))\n",
        "  per_1 = ((q1/100)*(len(sort)+1))\n",
        "  print(per_1)\n",
        "  percent = int(per_1)\n",
        "  frac_1 = per_1 - percent\n",
        "  print(frac_1)\n",
        "  quar_1 = sort[percent - 1] + frac_1*(sort[percent]-sort[percent-1])\n",
        "  print(quar_1)\n",
        "\n",
        "\n",
        "  q3 = int(input(\"Enter the Quartiler Q3\"))\n",
        "  per_3 = ((q3/100)*(len(sort)+1))\n",
        "  print(per_3)\n",
        "  percent = int(per_3)\n",
        "  frac_3 = per_3 - percent\n",
        "  print(frac_3)\n",
        "  quar_3 = sort[percent - 1] + frac_3*(sort[percent]-sort[percent-1])\n",
        "  print(quar_3)\n",
        "\n",
        "  iqr = quar_3 - quar_1\n",
        "  lb = quar_1 - (1.5 * iqr)\n",
        "  print(\"Lower Bound\", lb)\n",
        "\n",
        "\n",
        "lower_bound()"
      ],
      "metadata": {
        "colab": {
          "base_uri": "https://localhost:8080/"
        },
        "id": "2fXbmmfuicqv",
        "outputId": "68b16846-2022-46ca-aff7-4f0a96298060"
      },
      "execution_count": 86,
      "outputs": [
        {
          "output_type": "stream",
          "name": "stdout",
          "text": [
            "enter numbers :7 11 23 42 -3 -21 26 30\n",
            "[7, 11, 23, 42, -3, -21, 26, 30]\n",
            "[-21, -3, 7, 11, 23, 26, 30, 42]\n",
            "Enter the Quartiler Q125\n",
            "2.25\n",
            "0.25\n",
            "-0.5\n",
            "Enter the Quartiler Q375\n",
            "6.75\n",
            "0.75\n",
            "29.0\n",
            "Lower Bound -44.75\n"
          ]
        }
      ]
    },
    {
      "cell_type": "markdown",
      "source": [
        "Q7. Write function to return any outliers from a given list of numbers, if no outlier print it should return None"
      ],
      "metadata": {
        "id": "m4we3r8J3_S-"
      }
    },
    {
      "cell_type": "code",
      "source": [
        "def outlier():\n",
        "  m = input(\"enter numbers :\").split (\" \")\n",
        "  m = list(map(int, m))\n",
        "  print(m)\n",
        "\n",
        "  sort = sorted(m)\n",
        "  print(sort)\n",
        "\n",
        "  q1 = int(input(\"Enter the Quartiler Q1\"))\n",
        "  per_1 = ((q1/100)*(len(sort)+1))\n",
        "  print(per_1)\n",
        "  percent = int(per_1)\n",
        "  frac_1 = per_1 - percent\n",
        "  print(frac_1)\n",
        "  quar_1 = sort[percent - 1] + frac_1*(sort[percent]-sort[percent-1])\n",
        "  print(quar_1)\n",
        "\n",
        "\n",
        "  q3 = int(input(\"Enter the Quartiler Q3\"))\n",
        "  per_3 = ((q3/100)*(len(sort)+1))\n",
        "  print(per_3)\n",
        "  percent = int(per_3)\n",
        "  frac_3 = per_3 - percent\n",
        "  print(frac_3)\n",
        "  quar_3 = sort[percent - 1] + frac_3*(sort[percent]-sort[percent-1])\n",
        "  print(quar_3)\n",
        "\n",
        "  iqr = quar_3 - quar_1\n",
        "  lb = quar_1 - (1.5 * iqr)\n",
        "  print(\"Lower Bound\", lb)\n",
        "  ub = quar_3 + (1.5 * iqr)\n",
        "  print(\"Upper Bound\", ub)\n",
        "\n",
        "  if((sort[0] < lb) and (sort[(len(sort))] > ub)):\n",
        "    print(sort[0], sort[(len(sort))])\n",
        "  else:\n",
        "    None\n",
        "\n",
        "\n",
        "outlier()"
      ],
      "metadata": {
        "colab": {
          "base_uri": "https://localhost:8080/"
        },
        "id": "KbSEHARS09G3",
        "outputId": "71581a32-4e2e-446a-c46f-764878627619"
      },
      "execution_count": 100,
      "outputs": [
        {
          "output_type": "stream",
          "name": "stdout",
          "text": [
            "enter numbers :1 25 26 28 95\n",
            "[1, 25, 26, 28, 95]\n",
            "[1, 25, 26, 28, 95]\n",
            "Enter the Quartiler Q125\n",
            "1.5\n",
            "0.5\n",
            "13.0\n",
            "Enter the Quartiler Q375\n",
            "4.5\n",
            "0.5\n",
            "61.5\n",
            "Lower Bound -59.75\n",
            "Upper Bound 134.25\n"
          ]
        }
      ]
    },
    {
      "cell_type": "code",
      "source": [],
      "metadata": {
        "id": "dAK05GL16fdI"
      },
      "execution_count": null,
      "outputs": []
    }
  ]
}